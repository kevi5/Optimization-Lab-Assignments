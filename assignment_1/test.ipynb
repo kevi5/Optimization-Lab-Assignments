{
 "cells": [
  {
   "cell_type": "code",
   "execution_count": 1,
   "metadata": {},
   "outputs": [
    {
     "data": {
      "text/plain": [
       "<matplotlib.collections.PathCollection at 0x27825801b20>"
      ]
     },
     "execution_count": 1,
     "metadata": {},
     "output_type": "execute_result"
    },
    {
     "data": {
      "image/png": "[encoded data removed]",
      "text/plain": [
       "<Figure size 432x288 with 1 Axes>"
      ]
     },
     "metadata": {
      "needs_background": "light"
     },
     "output_type": "display_data"
    }
   ],
   "source": [
    "import numpy as np\n",
    "import matplotlib\n",
    "import matplotlib.pyplot as plt\n",
    "%matplotlib inline   \n",
    "\n",
    "c_values = np.linspace(1,100,100)\n",
    "\n",
    "f = []\n",
    "g = []\n",
    "\n",
    "for c in c_values:\n",
    "    f_value = c**2 + (1/2)*c\n",
    "    f.append(f_value)\n",
    "    g_value = (1/2)*c**3 - c\n",
    "    g.append(g_value)\n",
    "\n",
    "f = np.asarray(f)\n",
    "g = np.asarray(g)\n",
    "\n",
    "plt.scatter(f, g)"
   ]
  }
 ],
 "metadata": {
  "interpreter": {
   "hash": "a5d7b464c9899e51b85dde493d082d921e2c7448dfd2ddc298c59254d6915c95"
  },
  "kernelspec": {
   "display_name": "Python 3.9.2 64-bit",
   "language": "python",
   "name": "python3"
  },
  "language_info": {
   "codemirror_mode": {
    "name": "ipython",
    "version": 3
   },
   "file_extension": ".py",
   "mimetype": "text/x-python",
   "name": "python",
   "nbconvert_exporter": "python",
   "pygments_lexer": "ipython3",
   "version": "3.9.2"
  },
  "orig_nbformat": 4
 },
 "nbformat": 4,
 "nbformat_minor": 2
}
