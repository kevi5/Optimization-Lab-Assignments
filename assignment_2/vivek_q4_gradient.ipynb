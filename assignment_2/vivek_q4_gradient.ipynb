{
 "cells": [
  {
   "cell_type": "code",
   "execution_count": 34,
   "id": "9e569cc0",
   "metadata": {},
   "outputs": [],
   "source": [
    "import numpy as np\n",
    "import matplotlib.pyplot as plt"
   ]
  },
  {
   "cell_type": "code",
   "execution_count": 35,
   "id": "c8932d0f",
   "metadata": {},
   "outputs": [],
   "source": [
    "X = np.asarray([[0, 1, 2, 3, 4, 5, 6]]).T\n",
    "y = np.asarray([0, 3, 7, -1, 0, 5, 10])\n",
    "m,n=X.shape"
   ]
  },
  {
   "cell_type": "code",
   "execution_count": 19,
   "id": "0d3dc863",
   "metadata": {},
   "outputs": [
    {
     "data": {
      "text/plain": [
       "[<matplotlib.lines.Line2D at 0x28a52cf5f40>]"
      ]
     },
     "execution_count": 19,
     "metadata": {},
     "output_type": "execute_result"
    },
    {
     "data": {
      "image/png": "[encoded data removed]",
      "text/plain": [
       "<Figure size 432x288 with 1 Axes>"
      ]
     },
     "metadata": {
      "needs_background": "light"
     },
     "output_type": "display_data"
    }
   ],
   "source": [
    "plt.plot(X, y, 'rx')\n"
   ]
  },
  {
   "cell_type": "code",
   "execution_count": 20,
   "id": "fa3003f1",
   "metadata": {},
   "outputs": [],
   "source": [
    "# Add a bias factor to X.\n",
    "X = np.hstack((np.ones((m, 1)), X))\n"
   ]
  },
  {
   "cell_type": "code",
   "execution_count": 21,
   "id": "80f8a408",
   "metadata": {},
   "outputs": [],
   "source": [
    "X = np.hstack((\n",
    "    X,\n",
    "    (X[:, 1] ** 2).reshape((m, 1)),\n",
    "    (X[:, 1] ** 3).reshape((m, 1)),\n",
    "))\n",
    "m, n = X.shape"
   ]
  },
  {
   "cell_type": "code",
   "execution_count": 22,
   "id": "35f5850d",
   "metadata": {},
   "outputs": [],
   "source": [
    "X[:, 1:] = (X[:, 1:] - np.mean(X[:, 1:], axis=0)) / np.std(X[:, 1:], axis=0)\n"
   ]
  },
  {
   "cell_type": "code",
   "execution_count": 23,
   "id": "7b405970",
   "metadata": {},
   "outputs": [],
   "source": [
    "def h(X, theta):\n",
    "  return X @ theta\n"
   ]
  },
  {
   "cell_type": "code",
   "execution_count": 24,
   "id": "d62ecb46",
   "metadata": {},
   "outputs": [],
   "source": [
    "theta = np.random.rand(n)\n",
    "predictions = h(X, theta)\n"
   ]
  },
  {
   "cell_type": "code",
   "execution_count": 25,
   "id": "3a3fa572",
   "metadata": {},
   "outputs": [
    {
     "data": {
      "text/plain": [
       "(4,)"
      ]
     },
     "execution_count": 25,
     "metadata": {},
     "output_type": "execute_result"
    }
   ],
   "source": [
    "theta.shape"
   ]
  },
  {
   "cell_type": "code",
   "execution_count": 26,
   "id": "74233f38",
   "metadata": {},
   "outputs": [],
   "source": [
    "b1=[0,1,10,1000]"
   ]
  },
  {
   "cell_type": "code",
   "execution_count": 27,
   "id": "207d6fc4",
   "metadata": {},
   "outputs": [
    {
     "data": {
      "text/plain": [
       "(7, 4)"
      ]
     },
     "execution_count": 27,
     "metadata": {},
     "output_type": "execute_result"
    }
   ],
   "source": [
    "X.shape"
   ]
  },
  {
   "cell_type": "code",
   "execution_count": 28,
   "id": "b4e1cf5e",
   "metadata": {},
   "outputs": [],
   "source": [
    "def J(theta, X, y):\n",
    "  return np.mean(np.square(h(X, theta) - y)+b*(theta.T@theta))\n"
   ]
  },
  {
   "cell_type": "code",
   "execution_count": 29,
   "id": "870a2e07",
   "metadata": {},
   "outputs": [],
   "source": [
    "theta1=[]\n",
    "i1=[]\n",
    "losses=[]\n",
    "for b in b1:\n",
    "  alpha = 0.01\n",
    "  theta = theta - alpha * (1/m) * (X.T @ ((X @ theta) - y)+b*theta)\n",
    "  loss=[]\n",
    "  l_old=0\n",
    "  l=1\n",
    "  i=0\n",
    "  # stopping criteria l-l_old>0.001\n",
    "  while(np.abs(l-l_old)>0.001):\n",
    "    l_old=J(theta, X, y)\n",
    "    # print(l_old)\n",
    "    theta = theta - alpha * (1/m) * (X.T @ ((X @ theta) - y)+b*theta)\n",
    "    l=J(theta, X, y)\n",
    "    # print(l)\n",
    "    i+=1\n",
    "    loss.append(l)\n",
    "  theta1.append(theta)\n",
    "  i1.append(i)\n",
    "  losses.append(l)\n"
   ]
  },
  {
   "cell_type": "code",
   "execution_count": 30,
   "id": "a7539147",
   "metadata": {},
   "outputs": [
    {
     "data": {
      "text/plain": [
       "[array([ 3.42513789, -0.40478881,  0.60005546,  2.08695886]),\n",
       " array([ 3.01014256, -0.36994145,  0.52879365,  2.01727569]),\n",
       " array([1.41228016, 0.33024413, 0.50175308, 0.70119199]),\n",
       " array([0.02383577, 0.01319788, 0.01530053, 0.01709024])]"
      ]
     },
     "execution_count": 30,
     "metadata": {},
     "output_type": "execute_result"
    }
   ],
   "source": [
    "theta1"
   ]
  },
  {
   "cell_type": "code",
   "execution_count": 31,
   "id": "25c9bbc5",
   "metadata": {},
   "outputs": [
    {
     "data": {
      "text/plain": [
       "<matplotlib.legend.Legend at 0x28a0e5b6f70>"
      ]
     },
     "execution_count": 31,
     "metadata": {},
     "output_type": "execute_result"
    },
    {
     "data": {
      "image/png": "[encoded data removed]",
      "text/plain": [
       "<Figure size 432x288 with 1 Axes>"
      ]
     },
     "metadata": {
      "needs_background": "light"
     },
     "output_type": "display_data"
    }
   ],
   "source": [
    "for i in range(len(b1)):\n",
    "    prediction = h(X, theta1[i])\n",
    "    plt.plot(X[:, 1], prediction, label='prediction for '+str(b1[i]))\n",
    "plt.plot(X[:, 1], y, 'rx', label='labels')\n",
    "plt.legend()"
   ]
  },
  {
   "cell_type": "code",
   "execution_count": 32,
   "id": "04082c6d",
   "metadata": {},
   "outputs": [
    {
     "data": {
      "text/plain": [
       "[662, 324, 326, 15]"
      ]
     },
     "execution_count": 32,
     "metadata": {},
     "output_type": "execute_result"
    }
   ],
   "source": [
    "i1"
   ]
  },
  {
   "cell_type": "code",
   "execution_count": 36,
   "id": "409da0d9",
   "metadata": {},
   "outputs": [
    {
     "data": {
      "text/plain": [
       "[8.392882106279918, 22.154591952006708, 42.35362640950458, 27.1892542808069]"
      ]
     },
     "execution_count": 36,
     "metadata": {},
     "output_type": "execute_result"
    }
   ],
   "source": [
    "losses"
   ]
  }
 ],
 "metadata": {
  "kernelspec": {
   "display_name": "Python 3 (ipykernel)",
   "language": "python",
   "name": "python3"
  },
  "language_info": {
   "codemirror_mode": {
    "name": "ipython",
    "version": 3
   },
   "file_extension": ".py",
   "mimetype": "text/x-python",
   "name": "python",
   "nbconvert_exporter": "python",
   "pygments_lexer": "ipython3",
   "version": "3.9.2"
  }
 },
 "nbformat": 4,
 "nbformat_minor": 5
}
