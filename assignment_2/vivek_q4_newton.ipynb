{
 "cells": [
  {
   "cell_type": "code",
   "execution_count": 113,
   "id": "9e569cc0",
   "metadata": {},
   "outputs": [],
   "source": [
    "import numpy as np\n",
    "import matplotlib.pyplot as plt"
   ]
  },
  {
   "cell_type": "code",
   "execution_count": 114,
   "id": "c8932d0f",
   "metadata": {},
   "outputs": [],
   "source": [
    "X = np.asarray([[0, 1, 2, 3, 4, 5, 6]]).T\n",
    "y = np.asarray([0, 3, 7, -1, 0, 5, 10])\n",
    "m,n=X.shape"
   ]
  },
  {
   "cell_type": "code",
   "execution_count": 115,
   "id": "0d3dc863",
   "metadata": {},
   "outputs": [
    {
     "data": {
      "text/plain": [
       "[<matplotlib.lines.Line2D at 0x2107d6e2d90>]"
      ]
     },
     "execution_count": 115,
     "metadata": {},
     "output_type": "execute_result"
    },
    {
     "data": {
      "image/png": "[encoded data removed]",
      "text/plain": [
       "<Figure size 432x288 with 1 Axes>"
      ]
     },
     "metadata": {
      "needs_background": "light"
     },
     "output_type": "display_data"
    }
   ],
   "source": [
    "plt.plot(X, y, 'rx')\n"
   ]
  },
  {
   "cell_type": "code",
   "execution_count": 116,
   "id": "fa3003f1",
   "metadata": {},
   "outputs": [],
   "source": [
    "# Add a bias factor to X.\n",
    "X = np.hstack((np.ones((m, 1)), X))\n"
   ]
  },
  {
   "cell_type": "code",
   "execution_count": 117,
   "id": "80f8a408",
   "metadata": {},
   "outputs": [],
   "source": [
    "X = np.hstack((\n",
    "    X,\n",
    "    (X[:, 1] ** 2).reshape((m, 1)),\n",
    "    (X[:, 1] ** 3).reshape((m, 1)),\n",
    "))\n",
    "m, n = X.shape"
   ]
  },
  {
   "cell_type": "code",
   "execution_count": 118,
   "id": "35f5850d",
   "metadata": {},
   "outputs": [],
   "source": [
    "X[:, 1:] = (X[:, 1:] - np.mean(X[:, 1:], axis=0)) / np.std(X[:, 1:], axis=0)\n"
   ]
  },
  {
   "cell_type": "code",
   "execution_count": 119,
   "id": "7b405970",
   "metadata": {},
   "outputs": [],
   "source": [
    "def h(X, theta):\n",
    "  return X @ theta\n"
   ]
  },
  {
   "cell_type": "code",
   "execution_count": 120,
   "id": "d62ecb46",
   "metadata": {},
   "outputs": [],
   "source": [
    "theta = np.random.rand(n)\n",
    "predictions = h(X, theta)\n"
   ]
  },
  {
   "cell_type": "code",
   "execution_count": 121,
   "id": "3a3fa572",
   "metadata": {},
   "outputs": [
    {
     "data": {
      "text/plain": [
       "(4,)"
      ]
     },
     "execution_count": 121,
     "metadata": {},
     "output_type": "execute_result"
    }
   ],
   "source": [
    "theta.shape"
   ]
  },
  {
   "cell_type": "code",
   "execution_count": 122,
   "id": "74233f38",
   "metadata": {},
   "outputs": [],
   "source": [
    "b1=[0,1,10]"
   ]
  },
  {
   "cell_type": "code",
   "execution_count": 123,
   "id": "207d6fc4",
   "metadata": {},
   "outputs": [
    {
     "data": {
      "text/plain": [
       "(7, 4)"
      ]
     },
     "execution_count": 123,
     "metadata": {},
     "output_type": "execute_result"
    }
   ],
   "source": [
    "X.shape"
   ]
  },
  {
   "cell_type": "code",
   "execution_count": 124,
   "id": "b4e1cf5e",
   "metadata": {},
   "outputs": [],
   "source": [
    "def J(theta, X, y):\n",
    "  return np.mean(np.square(h(X, theta) - y)+b*(theta.T@theta))\n"
   ]
  },
  {
   "cell_type": "code",
   "execution_count": 125,
   "id": "870a2e07",
   "metadata": {},
   "outputs": [],
   "source": [
    "theta1=[]\n",
    "i1=[]\n",
    "for b in b1:\n",
    "  alpha = 0.01\n",
    "  d_theta=(1/m) * (X.T @ ((X @ theta) - y)+b*theta)\n",
    "  dd_theta=(X.T@X+b)\n",
    "  theta = theta - alpha*(np.linalg.inv(dd_theta)@d_theta)\n",
    "  losses = []\n",
    "  l_old=0\n",
    "  l=1\n",
    "  i=0\n",
    "  # stopping criteria l-l_old>0.001\n",
    "  while(np.abs(l-l_old)>0.001):\n",
    "    l_old=J(theta, X, y)\n",
    "    # print(l_old)\n",
    "    d_theta=(1/m) * (X.T @ ((X @ theta) - y)+b*theta)\n",
    "    dd_theta=(X.T@X+b)\n",
    "    theta = theta - alpha*(np.linalg.inv(dd_theta)@d_theta)\n",
    "    l=J(theta, X, y)\n",
    "    # print(l)\n",
    "    i+=1\n",
    "    # losses.append(l)\n",
    "  theta1.append(theta)\n",
    "  i1.append(i)\n"
   ]
  },
  {
   "cell_type": "code",
   "execution_count": 126,
   "id": "a7539147",
   "metadata": {},
   "outputs": [
    {
     "data": {
      "text/plain": [
       "[array([  2.98606057,  11.86758786, -35.70840872,  26.7362558 ]),\n",
       " array([ 3.02206176, -0.36085808,  0.49201851,  2.05653201]),\n",
       " array([1.44658048, 0.35916896, 0.52644213, 0.71630921])]"
      ]
     },
     "execution_count": 126,
     "metadata": {},
     "output_type": "execute_result"
    }
   ],
   "source": [
    "theta1"
   ]
  },
  {
   "cell_type": "code",
   "execution_count": 127,
   "id": "25c9bbc5",
   "metadata": {},
   "outputs": [
    {
     "data": {
      "text/plain": [
       "<matplotlib.legend.Legend at 0x2107d74fe50>"
      ]
     },
     "execution_count": 127,
     "metadata": {},
     "output_type": "execute_result"
    },
    {
     "data": {
      "image/png": "[encoded data removed]",
      "text/plain": [
       "<Figure size 432x288 with 1 Axes>"
      ]
     },
     "metadata": {
      "needs_background": "light"
     },
     "output_type": "display_data"
    }
   ],
   "source": [
    "for i in range(len(b1)):\n",
    "    prediction = h(X, theta1[i])\n",
    "    plt.plot(X[:, 1], prediction, label='prediction for '+str(b1[i]))\n",
    "plt.plot(X[:, 1], y, 'rx', label='labels')\n",
    "plt.legend()"
   ]
  },
  {
   "cell_type": "code",
   "execution_count": 128,
   "id": "6873767a",
   "metadata": {},
   "outputs": [
    {
     "data": {
      "text/plain": [
       "[array([  2.98606057,  11.86758786, -35.70840872,  26.7362558 ]),\n",
       " array([ 3.02206176, -0.36085808,  0.49201851,  2.05653201]),\n",
       " array([1.44658048, 0.35916896, 0.52644213, 0.71630921])]"
      ]
     },
     "execution_count": 128,
     "metadata": {},
     "output_type": "execute_result"
    }
   ],
   "source": [
    "theta1"
   ]
  },
  {
   "cell_type": "code",
   "execution_count": 129,
   "id": "9fa63994",
   "metadata": {},
   "outputs": [
    {
     "data": {
      "text/plain": [
       "[1347, 864, 4575]"
      ]
     },
     "execution_count": 129,
     "metadata": {},
     "output_type": "execute_result"
    }
   ],
   "source": [
    "i1"
   ]
  }
 ],
 "metadata": {
  "kernelspec": {
   "display_name": "Python 3 (ipykernel)",
   "language": "python",
   "name": "python3"
  },
  "language_info": {
   "codemirror_mode": {
    "name": "ipython",
    "version": 3
   },
   "file_extension": ".py",
   "mimetype": "text/x-python",
   "name": "python",
   "nbconvert_exporter": "python",
   "pygments_lexer": "ipython3",
   "version": "3.9.2"
  }
 },
 "nbformat": 4,
 "nbformat_minor": 5
}
