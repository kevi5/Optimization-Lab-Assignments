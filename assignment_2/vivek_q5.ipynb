{
 "cells": [
  {
   "cell_type": "code",
   "execution_count": 595,
   "metadata": {},
   "outputs": [],
   "source": [
    "import pandas as pd\n",
    "import matplotlib.pyplot as plt\n",
    "import numpy as np\n",
    "import random"
   ]
  },
  {
   "cell_type": "code",
   "execution_count": 596,
   "metadata": {},
   "outputs": [
    {
     "data": {
      "text/html": [
       "<div>\n",
       "<style scoped>\n",
       "    .dataframe tbody tr th:only-of-type {\n",
       "        vertical-align: middle;\n",
       "    }\n",
       "\n",
       "    .dataframe tbody tr th {\n",
       "        vertical-align: top;\n",
       "    }\n",
       "\n",
       "    .dataframe thead th {\n",
       "        text-align: right;\n",
       "    }\n",
       "</style>\n",
       "<table border=\"1\" class=\"dataframe\">\n",
       "  <thead>\n",
       "    <tr style=\"text-align: right;\">\n",
       "      <th></th>\n",
       "      <th>x0</th>\n",
       "      <th>x1</th>\n",
       "      <th>x2</th>\n",
       "      <th>y</th>\n",
       "    </tr>\n",
       "  </thead>\n",
       "  <tbody>\n",
       "    <tr>\n",
       "      <th>0</th>\n",
       "      <td>1.0</td>\n",
       "      <td>1.528</td>\n",
       "      <td>3.517</td>\n",
       "      <td>1</td>\n",
       "    </tr>\n",
       "    <tr>\n",
       "      <th>1</th>\n",
       "      <td>1.0</td>\n",
       "      <td>0.324</td>\n",
       "      <td>3.331</td>\n",
       "      <td>1</td>\n",
       "    </tr>\n",
       "    <tr>\n",
       "      <th>2</th>\n",
       "      <td>1.0</td>\n",
       "      <td>0.466</td>\n",
       "      <td>3.137</td>\n",
       "      <td>1</td>\n",
       "    </tr>\n",
       "    <tr>\n",
       "      <th>3</th>\n",
       "      <td>1.0</td>\n",
       "      <td>-1.359</td>\n",
       "      <td>2.682</td>\n",
       "      <td>1</td>\n",
       "    </tr>\n",
       "    <tr>\n",
       "      <th>4</th>\n",
       "      <td>1.0</td>\n",
       "      <td>-0.243</td>\n",
       "      <td>2.579</td>\n",
       "      <td>1</td>\n",
       "    </tr>\n",
       "    <tr>\n",
       "      <th>...</th>\n",
       "      <td>...</td>\n",
       "      <td>...</td>\n",
       "      <td>...</td>\n",
       "      <td>...</td>\n",
       "    </tr>\n",
       "    <tr>\n",
       "      <th>1995</th>\n",
       "      <td>1.0</td>\n",
       "      <td>-3.265</td>\n",
       "      <td>-2.280</td>\n",
       "      <td>-1</td>\n",
       "    </tr>\n",
       "    <tr>\n",
       "      <th>1996</th>\n",
       "      <td>1.0</td>\n",
       "      <td>-1.046</td>\n",
       "      <td>-2.569</td>\n",
       "      <td>-1</td>\n",
       "    </tr>\n",
       "    <tr>\n",
       "      <th>1997</th>\n",
       "      <td>1.0</td>\n",
       "      <td>-0.543</td>\n",
       "      <td>-4.239</td>\n",
       "      <td>-1</td>\n",
       "    </tr>\n",
       "    <tr>\n",
       "      <th>1998</th>\n",
       "      <td>1.0</td>\n",
       "      <td>-2.627</td>\n",
       "      <td>-1.088</td>\n",
       "      <td>-1</td>\n",
       "    </tr>\n",
       "    <tr>\n",
       "      <th>1999</th>\n",
       "      <td>1.0</td>\n",
       "      <td>-2.719</td>\n",
       "      <td>-2.645</td>\n",
       "      <td>-1</td>\n",
       "    </tr>\n",
       "  </tbody>\n",
       "</table>\n",
       "<p>2000 rows × 4 columns</p>\n",
       "</div>"
      ],
      "text/plain": [
       "       x0     x1     x2  y\n",
       "0     1.0  1.528  3.517  1\n",
       "1     1.0  0.324  3.331  1\n",
       "2     1.0  0.466  3.137  1\n",
       "3     1.0 -1.359  2.682  1\n",
       "4     1.0 -0.243  2.579  1\n",
       "...   ...    ...    ... ..\n",
       "1995  1.0 -3.265 -2.280 -1\n",
       "1996  1.0 -1.046 -2.569 -1\n",
       "1997  1.0 -0.543 -4.239 -1\n",
       "1998  1.0 -2.627 -1.088 -1\n",
       "1999  1.0 -2.719 -2.645 -1\n",
       "\n",
       "[2000 rows x 4 columns]"
      ]
     },
     "execution_count": 596,
     "metadata": {},
     "output_type": "execute_result"
    }
   ],
   "source": [
    "df = pd.read_csv(\"Qn5_dataset.txt\", sep=\" \",header=None, names=['x1', 'x2','y'])\n",
    "new_col=np.ones(df.shape[0])\n",
    "df.insert(0, 'x0',new_col)\n",
    "df"
   ]
  },
  {
   "cell_type": "code",
   "execution_count": 597,
   "metadata": {},
   "outputs": [
    {
     "name": "stdout",
     "output_type": "stream",
     "text": [
      "1400\n",
      "600\n"
     ]
    }
   ],
   "source": [
    "train = df.sample(frac=0.7, random_state=25)\n",
    "test = df.drop(train.index)\n",
    "print(train.shape[0])\n",
    "print(test.shape[0])\n"
   ]
  },
  {
   "cell_type": "code",
   "execution_count": 598,
   "metadata": {},
   "outputs": [
    {
     "data": {
      "text/plain": [
       "array([[0.57140259, 0.42888905, 0.5780913 ],\n",
       "       [0.20609823, 0.81332125, 0.82358887],\n",
       "       [0.65347253, 0.16022956, 0.52066936],\n",
       "       [0.32777281, 0.24999668, 0.95281691],\n",
       "       [0.99655699, 0.04455638, 0.86016104]])"
      ]
     },
     "execution_count": 598,
     "metadata": {},
     "output_type": "execute_result"
    }
   ],
   "source": [
    "random.seed(10)\n",
    "w=[]\n",
    "for _ in range(5):\n",
    "    w1=[]\n",
    "    for i in range(train.shape[1]-1):\n",
    "        w1.append(random.random())\n",
    "    w.append(w1)\n",
    "y=train['y'].tolist()\n",
    "x=train.iloc[:,0:3].to_numpy()\n",
    "y=np.array(y)\n",
    "w=np.array(w)\n",
    "w0=w\n",
    "w0"
   ]
  },
  {
   "cell_type": "code",
   "execution_count": null,
   "metadata": {},
   "outputs": [],
   "source": []
  },
  {
   "cell_type": "code",
   "execution_count": 599,
   "metadata": {},
   "outputs": [],
   "source": [
    "def sigmoid(a):\n",
    "    return 1/(1+np.exp(-a))"
   ]
  },
  {
   "cell_type": "code",
   "execution_count": 600,
   "metadata": {},
   "outputs": [],
   "source": [
    "def J(w, X, y):\n",
    "  return np.mean(-np.log(sigmoid(y@(w.T*x))+10**-10))"
   ]
  },
  {
   "cell_type": "code",
   "execution_count": 601,
   "metadata": {},
   "outputs": [
    {
     "data": {
      "text/plain": [
       "array([[ 1.   , -2.537, -2.482],\n",
       "       [ 1.   , -0.847, -2.335],\n",
       "       [ 1.   , -0.042, -3.086],\n",
       "       ...,\n",
       "       [ 1.   ,  1.263,  0.383],\n",
       "       [ 1.   , -1.249,  1.882],\n",
       "       [ 1.   ,  1.542,  2.284]])"
      ]
     },
     "execution_count": 601,
     "metadata": {},
     "output_type": "execute_result"
    }
   ],
   "source": [
    "x"
   ]
  },
  {
   "cell_type": "code",
   "execution_count": 602,
   "metadata": {},
   "outputs": [
    {
     "data": {
      "text/plain": [
       "3.4284259689314265"
      ]
     },
     "execution_count": 602,
     "metadata": {},
     "output_type": "execute_result"
    }
   ],
   "source": [
    "loss=J(w[0],x,y)\n",
    "loss"
   ]
  },
  {
   "cell_type": "code",
   "execution_count": 603,
   "metadata": {},
   "outputs": [],
   "source": [
    "lw=[]\n",
    "i1=[]\n",
    "new=[]\n",
    "for a in w:\n",
    "  alpha = 0.01\n",
    "  # w = w - alpha * (1-sigmoid(y@(w.T*x)))*(y@x)\n",
    "  loss=[]\n",
    "  l_old=0\n",
    "  l=1\n",
    "  it=0\n",
    "  # stopping criteria l-l_old>0.001\n",
    "  while(np.abs(l-l_old)>0.001):\n",
    "    l_old=J(a,x, y)\n",
    "    a = a + alpha * (1-sigmoid(y@(a.T*x)))*(y@x)\n",
    "    l=J(a, x, y)\n",
    "    it+=1\n",
    "    loss.append(l)\n",
    "  new.append(a)\n",
    "  i1.append(it)\n",
    "  lw.append(l)\n",
    "\n",
    "\n",
    "    "
   ]
  },
  {
   "cell_type": "code",
   "execution_count": 604,
   "metadata": {},
   "outputs": [
    {
     "data": {
      "text/plain": [
       "array([[0.57140259, 0.42888905, 0.5780913 ],\n",
       "       [0.20609823, 0.81332125, 0.82358887],\n",
       "       [0.65347253, 0.16022956, 0.52066936],\n",
       "       [0.32777281, 0.24999668, 0.95281691],\n",
       "       [0.99655699, 0.04455638, 0.86016104]])"
      ]
     },
     "execution_count": 604,
     "metadata": {},
     "output_type": "execute_result"
    }
   ],
   "source": [
    "w"
   ]
  },
  {
   "cell_type": "code",
   "execution_count": 605,
   "metadata": {},
   "outputs": [
    {
     "data": {
      "text/plain": [
       "[array([-0.1972954 ,  0.42888905,  0.5780913 ]),\n",
       " array([-0.19744116,  0.81332125,  0.82358887]),\n",
       " array([-0.19967225,  0.16022956,  0.52066936]),\n",
       " array([-0.19873118,  0.24999668,  0.95281691]),\n",
       " array([-0.20023266,  0.04455638,  0.86016104])]"
      ]
     },
     "execution_count": 605,
     "metadata": {},
     "output_type": "execute_result"
    }
   ],
   "source": [
    "new"
   ]
  },
  {
   "cell_type": "code",
   "execution_count": 606,
   "metadata": {},
   "outputs": [
    {
     "data": {
      "text/plain": [
       "[0.009427687453894018,\n",
       " 0.009403330346296812,\n",
       " 0.009038150616144549,\n",
       " 0.009190444845770697,\n",
       " 0.00894864547887743]"
      ]
     },
     "execution_count": 606,
     "metadata": {},
     "output_type": "execute_result"
    }
   ],
   "source": [
    "lw"
   ]
  },
  {
   "cell_type": "code",
   "execution_count": 607,
   "metadata": {},
   "outputs": [
    {
     "data": {
      "text/plain": [
       "[13, 11, 14, 12, 16]"
      ]
     },
     "execution_count": 607,
     "metadata": {},
     "output_type": "execute_result"
    }
   ],
   "source": [
    "i1"
   ]
  },
  {
   "cell_type": "code",
   "execution_count": 608,
   "metadata": {},
   "outputs": [
    {
     "data": {
      "text/plain": [
       "[<matplotlib.lines.Line2D at 0x1c8e0337a60>]"
      ]
     },
     "execution_count": 608,
     "metadata": {},
     "output_type": "execute_result"
    },
    {
     "data": {
      "image/png": "[encoded data removed]",
      "text/plain": [
       "<Figure size 432x288 with 1 Axes>"
      ]
     },
     "metadata": {
      "needs_background": "light"
     },
     "output_type": "display_data"
    }
   ],
   "source": [
    "plt.plot(loss)"
   ]
  },
  {
   "cell_type": "code",
   "execution_count": 609,
   "metadata": {},
   "outputs": [],
   "source": [
    "#prediction\n",
    "w=new[2]\n",
    "w0=w0[2]\n",
    "yt=test['y'].tolist()\n",
    "xt=test.iloc[:,0:3].to_numpy()\n",
    "a=w.T*xt\n",
    "p=sigmoid(a.sum(axis = 1))\n",
    "p=p.round()\n",
    "p[p==0]=-1\n"
   ]
  },
  {
   "cell_type": "code",
   "execution_count": 610,
   "metadata": {},
   "outputs": [
    {
     "data": {
      "text/plain": [
       "0.009038150616144549"
      ]
     },
     "execution_count": 610,
     "metadata": {},
     "output_type": "execute_result"
    }
   ],
   "source": [
    "loss=J(w,x,y)\n",
    "loss"
   ]
  },
  {
   "cell_type": "code",
   "execution_count": 611,
   "metadata": {},
   "outputs": [
    {
     "data": {
      "text/plain": [
       "600"
      ]
     },
     "execution_count": 611,
     "metadata": {},
     "output_type": "execute_result"
    }
   ],
   "source": [
    "test.shape[0]"
   ]
  },
  {
   "cell_type": "code",
   "execution_count": 612,
   "metadata": {},
   "outputs": [
    {
     "name": "stdout",
     "output_type": "stream",
     "text": [
      "0.0016666666666666668\n"
     ]
    },
    {
     "data": {
      "text/plain": [
       "1"
      ]
     },
     "execution_count": 612,
     "metadata": {},
     "output_type": "execute_result"
    }
   ],
   "source": [
    "loss=0\n",
    "for i in range(test.shape[0]):\n",
    "    if yt[i]!=p[i]:\n",
    "        loss+=1\n",
    "misclassification=loss/test.shape[0]\n",
    "print(misclassification)\n",
    "loss"
   ]
  },
  {
   "cell_type": "code",
   "execution_count": 613,
   "metadata": {},
   "outputs": [],
   "source": [
    "def x_line(w):\n",
    "    return -(w[0]+w[1]*train['x1'])/w[2]"
   ]
  },
  {
   "cell_type": "code",
   "execution_count": 614,
   "metadata": {},
   "outputs": [],
   "source": [
    "train0=train.loc[train['y']==-1]\n",
    "# print(train0.shape[0])\n",
    "train1=train.loc[train['y']==1]\n",
    "# print(train1.shape[0])"
   ]
  },
  {
   "cell_type": "code",
   "execution_count": 615,
   "metadata": {},
   "outputs": [
    {
     "data": {
      "text/plain": [
       "array([-0.19967225,  0.16022956,  0.52066936])"
      ]
     },
     "execution_count": 615,
     "metadata": {},
     "output_type": "execute_result"
    }
   ],
   "source": [
    "w"
   ]
  },
  {
   "cell_type": "code",
   "execution_count": 616,
   "metadata": {},
   "outputs": [
    {
     "data": {
      "text/plain": [
       "array([0.65347253, 0.16022956, 0.52066936])"
      ]
     },
     "execution_count": 616,
     "metadata": {},
     "output_type": "execute_result"
    }
   ],
   "source": [
    "w0"
   ]
  },
  {
   "cell_type": "code",
   "execution_count": 617,
   "metadata": {},
   "outputs": [
    {
     "data": {
      "image/png": "[encoded data removed]",
      "text/plain": [
       "<Figure size 432x288 with 1 Axes>"
      ]
     },
     "metadata": {
      "needs_background": "light"
     },
     "output_type": "display_data"
    }
   ],
   "source": [
    "\n",
    "plt.scatter(train0['x1'], train0['x2'], s=10, c='b', marker=\"o\", label=\"-1\")\n",
    "plt.scatter(train1['x1'], train1['x2'], s=10, c='r', marker=\"o\", label=\"1\")\n",
    "plt.plot(train['x1'],x_line(w),label='w*')\n",
    "plt.plot(train['x1'],x_line(w0),label='w0')\n",
    "plt.ylabel('x1')\n",
    "plt.xlabel('x2')\n",
    "plt.legend()\n",
    "plt.show()\n"
   ]
  },
  {
   "cell_type": "code",
   "execution_count": 618,
   "metadata": {},
   "outputs": [],
   "source": [
    "#step size = 0.01/x\n",
    "w=w0\n",
    "alpha = 0.01\n",
    "  # w = w - alpha * (1-sigmoid(y@(w.T*x)))*(y@x)\n",
    "loss=[]\n",
    "l_old=0\n",
    "l=1\n",
    "it=0\n",
    "  # stopping criteria l-l_old>0.001\n",
    "while(np.abs(l-l_old)>0.001):\n",
    "    it+=1\n",
    "    alpha/=it\n",
    "    l_old=J(w,x, y)\n",
    "    w = w + alpha * (1-sigmoid(y@(w.T*x)))*(y@x)\n",
    "    l=J(w, x, y)\n",
    "    loss.append(l)"
   ]
  },
  {
   "cell_type": "code",
   "execution_count": 619,
   "metadata": {},
   "outputs": [
    {
     "data": {
      "text/plain": [
       "2.066194155058089"
      ]
     },
     "execution_count": 619,
     "metadata": {},
     "output_type": "execute_result"
    }
   ],
   "source": [
    "l"
   ]
  },
  {
   "cell_type": "code",
   "execution_count": 620,
   "metadata": {},
   "outputs": [
    {
     "data": {
      "text/plain": [
       "7"
      ]
     },
     "execution_count": 620,
     "metadata": {},
     "output_type": "execute_result"
    }
   ],
   "source": [
    "it"
   ]
  },
  {
   "cell_type": "code",
   "execution_count": 621,
   "metadata": {},
   "outputs": [],
   "source": [
    "#step size = exact line search\n",
    "w=w0\n",
    "# alpha = 1\n",
    "  # w = w - alpha * (1-sigmoid(y@(w.T*x)))*(y@x)\n",
    "loss=[]\n",
    "l_old=0\n",
    "l=1\n",
    "it=0\n",
    "  # stopping criteria l-l_old>0.001\n",
    "while(np.abs(l-l_old)>0.001):\n",
    "    it+=1\n",
    "    alpha=1\n",
    "    l_old=J(w,x, y)\n",
    "    w = w + alpha * (1-sigmoid(y@(w.T*x)))*(y@x)\n",
    "    l=J(w, x, y)\n",
    "    while(l>l_old):\n",
    "        alpha/=2\n",
    "        w = w + alpha * (1-sigmoid(y@(w.T*x)))*(y@x)\n",
    "        l=J(w, x, y)\n",
    "    loss.append(l)"
   ]
  },
  {
   "cell_type": "code",
   "execution_count": 622,
   "metadata": {},
   "outputs": [
    {
     "data": {
      "text/plain": [
       "-1.000000082690371e-10"
      ]
     },
     "execution_count": 622,
     "metadata": {},
     "output_type": "execute_result"
    }
   ],
   "source": [
    "l"
   ]
  },
  {
   "cell_type": "code",
   "execution_count": 623,
   "metadata": {},
   "outputs": [
    {
     "data": {
      "text/plain": [
       "2"
      ]
     },
     "execution_count": 623,
     "metadata": {},
     "output_type": "execute_result"
    }
   ],
   "source": [
    "it"
   ]
  },
  {
   "cell_type": "code",
   "execution_count": 624,
   "metadata": {},
   "outputs": [
    {
     "data": {
      "text/plain": [
       "array([-17.34638722,   0.16022956,   0.52066936])"
      ]
     },
     "execution_count": 624,
     "metadata": {},
     "output_type": "execute_result"
    }
   ],
   "source": [
    "w"
   ]
  },
  {
   "cell_type": "code",
   "execution_count": 625,
   "metadata": {},
   "outputs": [],
   "source": [
    "w=w0\n",
    "w1=w0\n",
    "alpha = 0.01\n",
    "  # w = w - alpha * (1-sigmoid(y@(w.T*x)))*(y@x)\n",
    "loss=[]\n",
    "l_old=0\n",
    "l=1\n",
    "it=0\n",
    "  # stopping criteria 100 iterations\n",
    "while(it<100):\n",
    "    it+=1\n",
    "    l_old=J(w,x, y)\n",
    "    w = w + alpha * (1-sigmoid(y@(w.T*x)))*(y@x)\n",
    "    l=J(w, x, y)\n",
    "    loss.append(l)"
   ]
  },
  {
   "cell_type": "code",
   "execution_count": 626,
   "metadata": {},
   "outputs": [
    {
     "data": {
      "text/plain": [
       "0.0010519670126267048"
      ]
     },
     "execution_count": 626,
     "metadata": {},
     "output_type": "execute_result"
    }
   ],
   "source": [
    "l"
   ]
  },
  {
   "cell_type": "code",
   "execution_count": 627,
   "metadata": {},
   "outputs": [
    {
     "data": {
      "text/plain": [
       "array([-0.31982793,  0.16022956,  0.52066936])"
      ]
     },
     "execution_count": 627,
     "metadata": {},
     "output_type": "execute_result"
    }
   ],
   "source": [
    "w"
   ]
  }
 ],
 "metadata": {
  "interpreter": {
   "hash": "a5d7b464c9899e51b85dde493d082d921e2c7448dfd2ddc298c59254d6915c95"
  },
  "kernelspec": {
   "display_name": "Python 3.9.2 64-bit",
   "language": "python",
   "name": "python3"
  },
  "language_info": {
   "codemirror_mode": {
    "name": "ipython",
    "version": 3
   },
   "file_extension": ".py",
   "mimetype": "text/x-python",
   "name": "python",
   "nbconvert_exporter": "python",
   "pygments_lexer": "ipython3",
   "version": "3.9.2"
  },
  "orig_nbformat": 4
 },
 "nbformat": 4,
 "nbformat_minor": 2
}
